{
 "cells": [
  {
   "cell_type": "code",
   "execution_count": 4,
   "metadata": {},
   "outputs": [],
   "source": [
    "import numpy as np\n",
    "import pickle as pkl\n",
    "import os\n",
    "import timesynth as ts\n",
    "from scipy.io import arff\n",
    "import matplotlib.pyplot as plt\n",
    "import torch\n",
    "from torch import nn\n",
    "import random\n",
    "import torch.utils.data as utils\n",
    "from torch.utils.data import DataLoader\n",
    "from sklearn.metrics import precision_score, roc_auc_score\n",
    "from scipy.special import expit\n",
    "from scipy.signal import butter, lfilter, freqz\n",
    "from sklearn.preprocessing import OneHotEncoder\n",
    "from sklearn.preprocessing import StandardScaler, MinMaxScaler\n",
    "from utils import *"
   ]
  },
  {
   "cell_type": "code",
   "execution_count": 2,
   "metadata": {},
   "outputs": [
    {
     "data": {
      "image/png": "[encoded data removed]",
      "text/plain": [
       "<Figure size 432x288 with 1 Axes>"
      ]
     },
     "metadata": {
      "needs_background": "light"
     },
     "output_type": "display_data"
    }
   ],
   "source": [
    "def butter_lowpass(cutoff, fs, order=5):\n",
    "    nyq = 0.5 * fs\n",
    "    normal_cutoff = cutoff / nyq\n",
    "    b, a = butter(order, normal_cutoff, btype='low', analog=False)\n",
    "    return b, a\n",
    "\n",
    "def butter_lowpass_filter(data, cutoff, fs, order=5):\n",
    "    b, a = butter_lowpass(cutoff, fs, order=order)\n",
    "    y = lfilter(b, a, data)\n",
    "    return y\n",
    "\n",
    "# Filter requirements.\n",
    "order = 6\n",
    "fs = 30.0       # sample rate, Hz\n",
    "cutoff = 4.8 # desired cutoff frequency of the filter, Hz\n",
    "\n",
    "# Get the filter coefficients so we can check its frequency response.\n",
    "b, a = butter_lowpass(cutoff, fs, order)\n",
    "\n",
    "w, h = freqz(b, a, worN=8000)\n",
    "plt.subplot(1, 1, 1)\n",
    "plt.plot(0.5*fs*w/np.pi, np.abs(h), 'b')\n",
    "plt.plot(cutoff, 0.5*np.sqrt(2), 'ko')\n",
    "plt.axvline(cutoff, color='k')\n",
    "plt.xlim(0, 0.5*fs)\n",
    "plt.title(\"Lowpass Filter Frequency Response\")\n",
    "plt.xlabel('Frequency [Hz]')\n",
    "plt.grid()"
   ]
  },
  {
   "cell_type": "code",
   "execution_count": 3,
   "metadata": {},
   "outputs": [
    {
     "ename": "NameError",
     "evalue": "name 'pkl' is not defined",
     "output_type": "error",
     "traceback": [
      "\u001b[0;31m---------------------------------------------------------------------------\u001b[0m",
      "\u001b[0;31mNameError\u001b[0m                                 Traceback (most recent call last)",
      "\u001b[0;32m<ipython-input-3-e4597904469a>\u001b[0m in \u001b[0;36m<module>\u001b[0;34m\u001b[0m\n\u001b[1;32m     24\u001b[0m \u001b[0;34m\u001b[0m\u001b[0m\n\u001b[1;32m     25\u001b[0m \u001b[0;32mwith\u001b[0m \u001b[0mopen\u001b[0m\u001b[0;34m(\u001b[0m\u001b[0;34m'ddg.pkl'\u001b[0m\u001b[0;34m,\u001b[0m\u001b[0;34m'wb'\u001b[0m\u001b[0;34m)\u001b[0m \u001b[0;32mas\u001b[0m \u001b[0mf\u001b[0m\u001b[0;34m:\u001b[0m\u001b[0;34m\u001b[0m\u001b[0;34m\u001b[0m\u001b[0m\n\u001b[0;32m---> 26\u001b[0;31m     \u001b[0mpkl\u001b[0m\u001b[0;34m.\u001b[0m\u001b[0mdump\u001b[0m\u001b[0;34m(\u001b[0m\u001b[0;34m{\u001b[0m\u001b[0;34m'Xtrain'\u001b[0m\u001b[0;34m:\u001b[0m \u001b[0mX_train\u001b[0m\u001b[0;34m,\u001b[0m \u001b[0;34m'ytrain'\u001b[0m\u001b[0;34m:\u001b[0m \u001b[0my_train\u001b[0m\u001b[0;34m,\u001b[0m \u001b[0;34m'Xtest'\u001b[0m\u001b[0;34m:\u001b[0m \u001b[0mX_test\u001b[0m\u001b[0;34m,\u001b[0m \u001b[0;34m'ytest'\u001b[0m\u001b[0;34m:\u001b[0m \u001b[0my_test\u001b[0m\u001b[0;34m,\u001b[0m\u001b[0;34m'enc'\u001b[0m\u001b[0;34m:\u001b[0m \u001b[0mohe\u001b[0m\u001b[0;34m}\u001b[0m\u001b[0;34m,\u001b[0m \u001b[0mf\u001b[0m\u001b[0;34m)\u001b[0m\u001b[0;34m\u001b[0m\u001b[0;34m\u001b[0m\u001b[0m\n\u001b[0m",
      "\u001b[0;31mNameError\u001b[0m: name 'pkl' is not defined"
     ]
    }
   ],
   "source": [
    "def process_data(dataff):\n",
    "    n_samples = len(data)\n",
    "    n_features = len(dataff[0][0])\n",
    "    T = len(dataff[0][0][0])\n",
    "    Xx = np.zeros((n_samples, n_features, T))\n",
    "    for n in range(n_samples):\n",
    "        Xf = data[n][0]\n",
    "        for feat in range(n_features):\n",
    "            Xx[n, feat, :] = np.array([Xf[feat][t] for t in range(T)]).astype(float)\n",
    "    yy = np.array([dataff[n][1] for n in range(n_samples)])\n",
    "    return Xx, yy\n",
    "\n",
    "with open('./data/DuckDuckGeese/DuckDuckGeese_TEST.arff', 'r') as f:\n",
    "    data, meta = arff.loadarff(f)\n",
    "    X_test, y_test = process_data(data)\n",
    "    \n",
    "with open('./data/DuckDuckGeese/DuckDuckGeese_TRAIN.arff', 'r') as f:\n",
    "    data, meta = arff.loadarff(f)\n",
    "    X_train, y_train = process_data(data)\n",
    "    \n",
    "ohe = OneHotEncoder(sparse=False)\n",
    "y_train = ohe.fit_transform(y_train.reshape(-1,1))\n",
    "y_test = ohe.transform(y_test.reshape(-1,1))\n",
    "\n",
    "with open('./data/ddg/ddg.pkl','wb') as f:\n",
    "    pkl.dump({'Xtrain': X_train, 'ytrain': y_train, 'Xtest': X_test, 'ytest': y_test,'enc': ohe}, f)"
   ]
  },
  {
   "cell_type": "code",
   "execution_count": 6,
   "metadata": {},
   "outputs": [],
   "source": [
    "def softmax(latent_in):\n",
    "    prob_mat = np.exp(latent_in)/np.sum(np.exp(latent_in),axis=0)\n",
    "    return prob_mat\n",
    "\n",
    "def logistic(latent_in):\n",
    "    return expit(latent_in)\n",
    "    \n",
    "def generate_sample(seeds, Tt=80):\n",
    "    latent = np.zeros((len(seeds),Tt))\n",
    "    for k,seed in enumerate(seeds):\n",
    "        gp = ts.signals.GaussianProcess(lengthscale=seed,mean=0)\n",
    "        latent[k,:] = gp.sample_vectorized(time_vector=np.array(range(Tt)))\n",
    "        latent[k,:] = butter_lowpass_filter(latent[k,:], cutoff, fs, order)\n",
    "        latent[k,:] = logistic(latent[k,:])\n",
    "        latent[k,:] = np.array([np.random.binomial(n=1,p=x,size=1) for x in latent[k,:]]).flatten()\n",
    "    return latent"
   ]
  },
  {
   "cell_type": "code",
   "execution_count": 7,
   "metadata": {},
   "outputs": [],
   "source": [
    "with open('./data/ddg/ddg.pkl','rb') as f:\n",
    "    data_dict = pkl.load(f)\n",
    "    \n",
    "X_train = data_dict['Xtrain']\n",
    "y_train = data_dict['ytrain'] \n",
    "X_test = data_dict['Xtest']\n",
    "y_test = data_dict['ytest']"
   ]
  },
  {
   "cell_type": "code",
   "execution_count": 8,
   "metadata": {},
   "outputs": [],
   "source": [
    "_, train_loader, valid_loader, test_loader = load_simulated_data(X_train, y_train, X_test, y_test, batch_size=40, percentage=1.)"
   ]
  },
  {
   "cell_type": "code",
   "execution_count": null,
   "metadata": {},
   "outputs": [],
   "source": [
    "encoding_size=80\n",
    "feature_size = X_train.shape[1]\n",
    "n_classes = y_train.shape[1]\n",
    "data='ddg'\n",
    "exp = EncoderPredictor(train_loader, valid_loader, test_loader, feature_size, encoding_size,\n",
    "                               rnn_type='LSTM', data=data, model='RNN',n_classes=n_classes)\n",
    "exp.run(train=True, n_epochs=300, samples_to_analyze=[])"
   ]
  },
  {
   "cell_type": "code",
   "execution_count": 11,
   "metadata": {},
   "outputs": [],
   "source": [
    "# For all train/test samples, do inference with masked features\n",
    "n_samples, n_features, Tt = X_train.shape\n",
    "n_basis=5000\n",
    "candidate_probs = generate_sample(np.random.normal(loc=2,scale=1,size=n_basis), Tt=Tt)#dump new labels with ground-truth feature importance tensor"
   ]
  },
  {
   "cell_type": "code",
   "execution_count": 12,
   "metadata": {},
   "outputs": [],
   "source": [
    "scaler = StandardScaler()\n",
    "X_train_flat = scaler.fit_transform(np.reshape(X_train,[X_train.shape[0],-1]))\n",
    "X_train = np.reshape(X_train_flat,X_train.shape)\n",
    "X_test_flat = scaler.transform(np.reshape(X_test,[X_test.shape[0],-1]))\n",
    "X_test = np.reshape(X_test_flat,X_test.shape)\n",
    "\n",
    "X_train_new = np.zeros(X_train.shape)\n",
    "feature_imp_train = np.zeros(X_train.shape)\n",
    "for n in range(X_train.shape[0]):\n",
    "    hide_idx = np.random.choice(n_basis,replace=True,size=n_features)\n",
    "    mask_mat = candidate_probs[hide_idx,:]\n",
    "    X_train_new[n,:,:] = np.multiply(X_train[n,:,:], mask_mat)\n",
    "    feature_imp_train[n,:,:] = mask_mat\n",
    "    \n",
    "X_test_new = np.zeros(X_test.shape)\n",
    "feature_imp_test = np.zeros(X_test.shape)\n",
    "for n in range(X_test.shape[0]):\n",
    "    hide_idx = np.random.choice(n_basis,replace=True,size=n_features)\n",
    "    mask_mat = candidate_probs[hide_idx,:]\n",
    "    X_test_new[n,:,:] = np.multiply(X_test[n,:,:],mask_mat)\n",
    "    feature_imp_test[n,:,:] = mask_mat\n",
    "    \n",
    "train_dataset = utils.TensorDataset(torch.Tensor(X_train_new[:, :, :]),torch.Tensor(y_train[:, :]))\n",
    "valid_dataset = utils.TensorDataset(torch.Tensor(X_train_new[:, :, :]),torch.Tensor(y_train[:, :]))\n",
    "test_dataset = utils.TensorDataset(torch.Tensor(X_test_new[:,:,:]), torch.Tensor(y_test))\n",
    "train_loader = DataLoader(train_dataset, batch_size=len(X_train))\n",
    "valid_loader = DataLoader(valid_dataset, batch_size=len(X_train))\n",
    "test_loader = DataLoader(test_dataset, batch_size=len(X_test))"
   ]
  },
  {
   "cell_type": "code",
   "execution_count": 14,
   "metadata": {},
   "outputs": [],
   "source": [
    "feature_size = X_train_new.shape[1]\n",
    "n_classes = y_train.shape[1]\n",
    "data='ddg'\n",
    "exp = EncoderPredictor(train_loader, valid_loader, test_loader, feature_size, encoding_size,\n",
    "                               rnn_type='LSTM', data=data, model='RNN',n_classes=n_classes)\n",
    "y_train_new, logits_train_new, y_test_new, logits_test_new = exp.run(train=False, n_epochs=130)"
   ]
  },
  {
   "cell_type": "code",
   "execution_count": 15,
   "metadata": {},
   "outputs": [],
   "source": [
    "if not os.path.exists('./data/ddg'):\n",
    "    os.mkdir('./data/ddg')\n",
    "with open('./data/ddg/x_train.pkl', 'wb') as f:\n",
    "    pkl.dump(X_train_new, f)\n",
    "with open('./data/ddg/x_test.pkl', 'wb') as f:\n",
    "    pkl.dump(X_test_new, f)\n",
    "with open('./data/ddg/y_train.pkl', 'wb') as f:\n",
    "    pkl.dump(y_train_new, f)\n",
    "with open('./data/ddg/y_test.pkl', 'wb') as f:\n",
    "    pkl.dump(y_test_new, f)\n",
    "with open('./data/ddg/importance_train.pkl', 'wb') as f:\n",
    "    pkl.dump(feature_imp_train, f)\n",
    "with open('./data/ddg/importance_test.pkl', 'wb') as f:\n",
    "    pkl.dump(feature_imp_test, f)\n",
    "with open('./data/ddg/logits_train.pkl', 'wb') as f:\n",
    "    pkl.dump(logits_train_new, f)\n",
    "with open('./data/ddg/logits_test.pkl', 'wb') as f:\n",
    "    pkl.dump(logits_test_new, f)"
   ]
  },
  {
   "cell_type": "code",
   "execution_count": 16,
   "metadata": {},
   "outputs": [
    {
     "name": "stdout",
     "output_type": "stream",
     "text": [
      "\n",
      "Epoch 0\n",
      "Training ===>loss:  1.6018776893615723  Accuracy: 26.00 percent  AUC: 0.58\n",
      "Test ===>loss:  1.6081126928329468  Accuracy: 24.00 percent  AUC: 0.55\n",
      "\n",
      "Epoch 10\n",
      "Training ===>loss:  1.5991302728652954  Accuracy: 28.00 percent  AUC: 0.56\n",
      "Test ===>loss:  1.6017775535583496  Accuracy: 30.00 percent  AUC: 0.71\n",
      "\n",
      "Epoch 20\n",
      "Training ===>loss:  1.5941047668457031  Accuracy: 28.00 percent  AUC: 0.59\n",
      "Test ===>loss:  1.5922441482543945  Accuracy: 56.00 percent  AUC: 0.80\n",
      "\n",
      "Epoch 30\n",
      "Training ===>loss:  1.5824352502822876  Accuracy: 34.00 percent  AUC: 0.71\n",
      "Test ===>loss:  1.5824283361434937  Accuracy: 60.00 percent  AUC: 0.86\n",
      "\n",
      "Epoch 40\n",
      "Training ===>loss:  1.5882333517074585  Accuracy: 36.00 percent  AUC: 0.64\n",
      "Test ===>loss:  1.573480248451233  Accuracy: 66.00 percent  AUC: 0.90\n",
      "\n",
      "Epoch 50\n",
      "Training ===>loss:  1.5798405408859253  Accuracy: 30.00 percent  AUC: 0.73\n",
      "Test ===>loss:  1.5647149085998535  Accuracy: 70.00 percent  AUC: 0.92\n",
      "\n",
      "Epoch 60\n",
      "Training ===>loss:  1.5735254287719727  Accuracy: 38.00 percent  AUC: 0.74\n",
      "Test ===>loss:  1.5557132959365845  Accuracy: 72.00 percent  AUC: 0.93\n",
      "\n",
      "Epoch 70\n",
      "Training ===>loss:  1.5534319877624512  Accuracy: 52.00 percent  AUC: 0.81\n",
      "Test ===>loss:  1.5468357801437378  Accuracy: 74.00 percent  AUC: 0.94\n",
      "\n",
      "Epoch 80\n",
      "Training ===>loss:  1.5551282167434692  Accuracy: 58.00 percent  AUC: 0.80\n",
      "Test ===>loss:  1.53757905960083  Accuracy: 76.00 percent  AUC: 0.95\n",
      "\n",
      "Epoch 90\n",
      "Training ===>loss:  1.5370937585830688  Accuracy: 50.00 percent  AUC: 0.85\n",
      "Test ===>loss:  1.527834415435791  Accuracy: 74.00 percent  AUC: 0.95\n",
      "\n",
      "Epoch 100\n",
      "Training ===>loss:  1.5380555391311646  Accuracy: 52.00 percent  AUC: 0.81\n",
      "Test ===>loss:  1.5171387195587158  Accuracy: 72.00 percent  AUC: 0.96\n",
      "\n",
      "Epoch 110\n",
      "Training ===>loss:  1.5199769735336304  Accuracy: 62.00 percent  AUC: 0.87\n",
      "Test ===>loss:  1.5054532289505005  Accuracy: 72.00 percent  AUC: 0.96\n",
      "\n",
      "Epoch 120\n",
      "Training ===>loss:  1.5222705602645874  Accuracy: 60.00 percent  AUC: 0.86\n",
      "Test ===>loss:  1.4929227828979492  Accuracy: 74.00 percent  AUC: 0.96\n",
      "\n",
      "Epoch 130\n",
      "Training ===>loss:  1.4878697395324707  Accuracy: 68.00 percent  AUC: 0.89\n",
      "Test ===>loss:  1.4791483879089355  Accuracy: 76.00 percent  AUC: 0.97\n",
      "\n",
      "Epoch 140\n",
      "Training ===>loss:  1.4737839698791504  Accuracy: 60.00 percent  AUC: 0.88\n",
      "Test ===>loss:  1.4640640020370483  Accuracy: 76.00 percent  AUC: 0.98\n",
      "\n",
      "Epoch 150\n",
      "Training ===>loss:  1.4777663946151733  Accuracy: 66.00 percent  AUC: 0.89\n",
      "Test ===>loss:  1.4480351209640503  Accuracy: 76.00 percent  AUC: 0.98\n",
      "\n",
      "Epoch 160\n",
      "Training ===>loss:  1.4640707969665527  Accuracy: 68.00 percent  AUC: 0.91\n",
      "Test ===>loss:  1.4310154914855957  Accuracy: 78.00 percent  AUC: 0.99\n",
      "\n",
      "Epoch 170\n",
      "Training ===>loss:  1.4279972314834595  Accuracy: 82.00 percent  AUC: 0.96\n",
      "Test ===>loss:  1.4136886596679688  Accuracy: 78.00 percent  AUC: 0.99\n",
      "\n",
      "Epoch 180\n",
      "Training ===>loss:  1.4379429817199707  Accuracy: 76.00 percent  AUC: 0.93\n",
      "Test ===>loss:  1.3964555263519287  Accuracy: 82.00 percent  AUC: 0.99\n",
      "\n",
      "Epoch 190\n",
      "Training ===>loss:  1.412209153175354  Accuracy: 78.00 percent  AUC: 0.93\n",
      "Test ===>loss:  1.378382921218872  Accuracy: 86.00 percent  AUC: 0.99\n",
      "\n",
      "Epoch 200\n",
      "Training ===>loss:  1.4014463424682617  Accuracy: 74.00 percent  AUC: 0.95\n",
      "Test ===>loss:  1.3598179817199707  Accuracy: 88.00 percent  AUC: 0.99\n",
      "\n",
      "Epoch 210\n",
      "Training ===>loss:  1.409877896308899  Accuracy: 76.00 percent  AUC: 0.95\n",
      "Test ===>loss:  1.3419921398162842  Accuracy: 88.00 percent  AUC: 0.99\n",
      "\n",
      "Epoch 220\n",
      "Training ===>loss:  1.3718234300613403  Accuracy: 88.00 percent  AUC: 0.97\n",
      "Test ===>loss:  1.3237048387527466  Accuracy: 90.00 percent  AUC: 1.00\n",
      "\n",
      "Epoch 230\n",
      "Training ===>loss:  1.3733218908309937  Accuracy: 84.00 percent  AUC: 0.96\n",
      "Test ===>loss:  1.305497169494629  Accuracy: 92.00 percent  AUC: 1.00\n",
      "\n",
      "Epoch 240\n",
      "Training ===>loss:  1.3577293157577515  Accuracy: 84.00 percent  AUC: 0.95\n",
      "Test ===>loss:  1.2877966165542603  Accuracy: 92.00 percent  AUC: 1.00\n",
      "\n",
      "Epoch 250\n",
      "Training ===>loss:  1.3448065519332886  Accuracy: 82.00 percent  AUC: 0.96\n",
      "Test ===>loss:  1.2704405784606934  Accuracy: 92.00 percent  AUC: 1.00\n",
      "\n",
      "Epoch 260\n",
      "Training ===>loss:  1.323713779449463  Accuracy: 78.00 percent  AUC: 0.98\n",
      "Test ===>loss:  1.2536793947219849  Accuracy: 92.00 percent  AUC: 1.00\n",
      "\n",
      "Epoch 270\n",
      "Training ===>loss:  1.2990070581436157  Accuracy: 84.00 percent  AUC: 0.98\n",
      "Test ===>loss:  1.2373692989349365  Accuracy: 92.00 percent  AUC: 1.00\n",
      "\n",
      "Epoch 280\n",
      "Training ===>loss:  1.2682377099990845  Accuracy: 90.00 percent  AUC: 0.98\n",
      "Test ===>loss:  1.221906065940857  Accuracy: 92.00 percent  AUC: 1.00\n",
      "\n",
      "Epoch 290\n",
      "Training ===>loss:  1.2845419645309448  Accuracy: 88.00 percent  AUC: 0.98\n",
      "Test ===>loss:  1.2057902812957764  Accuracy: 92.00 percent  AUC: 1.00\n",
      "\n",
      "Epoch 300\n",
      "Training ===>loss:  1.2439371347427368  Accuracy: 88.00 percent  AUC: 0.99\n",
      "Test ===>loss:  1.191208839416504  Accuracy: 92.00 percent  AUC: 1.00\n",
      "\n",
      "Final performance on held out test set ===> AUC:  0.8304362421204526\n"
     ]
    },
    {
     "data": {
      "image/png": "[encoded data removed]",
      "text/plain": [
       "<Figure size 432x288 with 1 Axes>"
      ]
     },
     "metadata": {
      "needs_background": "light"
     },
     "output_type": "display_data"
    }
   ],
   "source": [
    "train_dataset = utils.TensorDataset(torch.Tensor(X_train_new[:, :, :]),torch.Tensor(y_train_new[:, :]))\n",
    "valid_dataset = utils.TensorDataset(torch.Tensor(X_train_new[:, :, :]),torch.Tensor(y_train_new[:, :]))\n",
    "test_dataset = utils.TensorDataset(torch.Tensor(X_test_new[:,:,:]), torch.Tensor(y_test_new))\n",
    "train_loader = DataLoader(train_dataset, batch_size=len(X_train_new))\n",
    "valid_loader = DataLoader(valid_dataset, batch_size=len(X_train_new))\n",
    "test_loader = DataLoader(test_dataset, batch_size=len(X_test_new))\n",
    "exp = EncoderPredictor(train_loader, valid_loader, test_loader, feature_size, 50,\n",
    "                               rnn_type='LSTM', data=data, model='RNN',n_classes=n_classes)\n",
    "exp.run(train=True, n_epochs=300)"
   ]
  },
  {
   "cell_type": "code",
   "execution_count": null,
   "metadata": {},
   "outputs": [],
   "source": []
  }
 ],
 "metadata": {
  "kernelspec": {
   "display_name": "Python 3",
   "language": "python",
   "name": "python3"
  },
  "language_info": {
   "codemirror_mode": {
    "name": "ipython",
    "version": 3
   },
   "file_extension": ".py",
   "mimetype": "text/x-python",
   "name": "python",
   "nbconvert_exporter": "python",
   "pygments_lexer": "ipython3",
   "version": "3.8.1"
  }
 },
 "nbformat": 4,
 "nbformat_minor": 4
}
